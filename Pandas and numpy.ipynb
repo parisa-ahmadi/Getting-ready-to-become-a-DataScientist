{
  "nbformat": 4,
  "nbformat_minor": 0,
  "metadata": {
    "colab": {
      "name": "Untitled12.ipynb",
      "provenance": [],
      "collapsed_sections": [],
      "authorship_tag": "ABX9TyPwrhC+MuZczvYAuEeDhWEk",
      "include_colab_link": true
    },
    "kernelspec": {
      "name": "python3",
      "display_name": "Python 3"
    },
    "language_info": {
      "name": "python"
    }
  },
  "cells": [
    {
      "cell_type": "markdown",
      "metadata": {
        "id": "view-in-github",
        "colab_type": "text"
      },
      "source": [
        "<a href=\"https://colab.research.google.com/github/parisa-ahmadi/PythonBasics/blob/main/Pandas%20and%20numpy.ipynb\" target=\"_parent\"><img src=\"https://colab.research.google.com/assets/colab-badge.svg\" alt=\"Open In Colab\"/></a>"
      ]
    },
    {
      "cell_type": "code",
      "metadata": {
        "colab": {
          "base_uri": "https://localhost:8080/"
        },
        "id": "JQOB7mXJihAb",
        "outputId": "a676a443-0c5a-4487-f326-8e26cbf52085"
      },
      "source": [
        "import pandas as pd\n",
        "import numpy as np\n",
        "list1=[1,3,4,5,67,7]\n",
        "labels=[1,2,3,4,5,6]\n",
        "ser_1=pd.Series(data=list1,index=labels)\n",
        "print(ser_1)\n"
      ],
      "execution_count": 2,
      "outputs": [
        {
          "output_type": "stream",
          "name": "stdout",
          "text": [
            "1     1\n",
            "2     3\n",
            "3     4\n",
            "4     5\n",
            "5    67\n",
            "6     7\n",
            "dtype: int64\n"
          ]
        }
      ]
    },
    {
      "cell_type": "code",
      "metadata": {
        "colab": {
          "base_uri": "https://localhost:8080/"
        },
        "id": "dZdk7auDj4I1",
        "outputId": "24515bdc-42b1-4a2f-cf92-69d45ea1ff7e"
      },
      "source": [
        "ser_1+ser_1"
      ],
      "execution_count": 3,
      "outputs": [
        {
          "output_type": "execute_result",
          "data": {
            "text/plain": [
              "1      2\n",
              "2      6\n",
              "3      8\n",
              "4     10\n",
              "5    134\n",
              "6     14\n",
              "dtype: int64"
            ]
          },
          "metadata": {},
          "execution_count": 3
        }
      ]
    },
    {
      "cell_type": "code",
      "metadata": {
        "colab": {
          "base_uri": "https://localhost:8080/"
        },
        "id": "luFRzPnqkHcy",
        "outputId": "ecf94d37-209b-449e-c358-077d67fca872"
      },
      "source": [
        "ser_1*ser_1"
      ],
      "execution_count": 4,
      "outputs": [
        {
          "output_type": "execute_result",
          "data": {
            "text/plain": [
              "1       1\n",
              "2       9\n",
              "3      16\n",
              "4      25\n",
              "5    4489\n",
              "6      49\n",
              "dtype: int64"
            ]
          },
          "metadata": {},
          "execution_count": 4
        }
      ]
    },
    {
      "cell_type": "code",
      "metadata": {
        "colab": {
          "base_uri": "https://localhost:8080/"
        },
        "id": "WTww8c-7kQQf",
        "outputId": "f8f3a966-2292-420b-de02-a775af8917e0"
      },
      "source": [
        "arr_1=np.array([1,2,3,4,5,6])\n",
        "ser_2=pd.Series(arr_1)\n",
        "print(ser_2)"
      ],
      "execution_count": 5,
      "outputs": [
        {
          "output_type": "stream",
          "name": "stdout",
          "text": [
            "0    1\n",
            "1    2\n",
            "2    3\n",
            "3    4\n",
            "4    5\n",
            "5    6\n",
            "dtype: int64\n"
          ]
        }
      ]
    },
    {
      "cell_type": "code",
      "metadata": {
        "colab": {
          "base_uri": "https://localhost:8080/"
        },
        "id": "cmmerDOJmCPw",
        "outputId": "405873b5-1266-4e4e-a2be-ddd2dd43651b"
      },
      "source": [
        "ser_1* ser_2"
      ],
      "execution_count": 6,
      "outputs": [
        {
          "output_type": "execute_result",
          "data": {
            "text/plain": [
              "0      NaN\n",
              "1      2.0\n",
              "2      9.0\n",
              "3     16.0\n",
              "4     25.0\n",
              "5    402.0\n",
              "6      NaN\n",
              "dtype: float64"
            ]
          },
          "metadata": {},
          "execution_count": 6
        }
      ]
    },
    {
      "cell_type": "code",
      "metadata": {
        "colab": {
          "base_uri": "https://localhost:8080/"
        },
        "id": "gnBdOFf_mF5L",
        "outputId": "1ed031db-a2cd-489f-adca-c8fd7c3be884"
      },
      "source": [
        "ser_2/ser_2"
      ],
      "execution_count": 7,
      "outputs": [
        {
          "output_type": "execute_result",
          "data": {
            "text/plain": [
              "0    1.0\n",
              "1    1.0\n",
              "2    1.0\n",
              "3    1.0\n",
              "4    1.0\n",
              "5    1.0\n",
              "dtype: float64"
            ]
          },
          "metadata": {},
          "execution_count": 7
        }
      ]
    },
    {
      "cell_type": "code",
      "metadata": {
        "colab": {
          "base_uri": "https://localhost:8080/"
        },
        "id": "SJvYcRLPnzAU",
        "outputId": "dc3a6157-de11-45fc-9ebe-f605e54fafb8"
      },
      "source": [
        "ser_2-ser_2"
      ],
      "execution_count": 8,
      "outputs": [
        {
          "output_type": "execute_result",
          "data": {
            "text/plain": [
              "0    0\n",
              "1    0\n",
              "2    0\n",
              "3    0\n",
              "4    0\n",
              "5    0\n",
              "dtype: int64"
            ]
          },
          "metadata": {},
          "execution_count": 8
        }
      ]
    },
    {
      "cell_type": "code",
      "metadata": {
        "colab": {
          "base_uri": "https://localhost:8080/",
          "height": 111
        },
        "id": "Bfb6-dXjn2pE",
        "outputId": "8d60e18a-3620-4268-e2cf-806a193783f0"
      },
      "source": [
        "arr_2=np.random.randint(10,50, size=(2,3))\n",
        "df_1=pd.DataFrame(arr_2,[\"A\",\"B\"],['C','D','E'])\n",
        "df_1"
      ],
      "execution_count": 9,
      "outputs": [
        {
          "output_type": "execute_result",
          "data": {
            "text/html": [
              "<div>\n",
              "<style scoped>\n",
              "    .dataframe tbody tr th:only-of-type {\n",
              "        vertical-align: middle;\n",
              "    }\n",
              "\n",
              "    .dataframe tbody tr th {\n",
              "        vertical-align: top;\n",
              "    }\n",
              "\n",
              "    .dataframe thead th {\n",
              "        text-align: right;\n",
              "    }\n",
              "</style>\n",
              "<table border=\"1\" class=\"dataframe\">\n",
              "  <thead>\n",
              "    <tr style=\"text-align: right;\">\n",
              "      <th></th>\n",
              "      <th>C</th>\n",
              "      <th>D</th>\n",
              "      <th>E</th>\n",
              "    </tr>\n",
              "  </thead>\n",
              "  <tbody>\n",
              "    <tr>\n",
              "      <th>A</th>\n",
              "      <td>44</td>\n",
              "      <td>36</td>\n",
              "      <td>38</td>\n",
              "    </tr>\n",
              "    <tr>\n",
              "      <th>B</th>\n",
              "      <td>35</td>\n",
              "      <td>10</td>\n",
              "      <td>14</td>\n",
              "    </tr>\n",
              "  </tbody>\n",
              "</table>\n",
              "</div>"
            ],
            "text/plain": [
              "    C   D   E\n",
              "A  44  36  38\n",
              "B  35  10  14"
            ]
          },
          "metadata": {},
          "execution_count": 9
        }
      ]
    },
    {
      "cell_type": "code",
      "metadata": {
        "id": "cO4CK1MKC0L6",
        "outputId": "ae6f0d89-b0aa-4656-bd43-70e3617a5418",
        "colab": {
          "base_uri": "https://localhost:8080/",
          "height": 173
        }
      },
      "source": [
        "dict_1={\"A\":[\"Day1\",\"Day2\",\"Day3\",\"Day4\"],\n",
        "        \"B\":[\"man\",\"to\",\"oo\",\"3\"],\n",
        "        \"C\":[1,2,4.0,9],\n",
        "        \"D\":[\"fff\",\"eeee\",\"bib\",\"lolo\"]}\n",
        "df_1=pd.DataFrame(dict_1)\n",
        "df_1"
      ],
      "execution_count": 12,
      "outputs": [
        {
          "output_type": "execute_result",
          "data": {
            "text/html": [
              "<div>\n",
              "<style scoped>\n",
              "    .dataframe tbody tr th:only-of-type {\n",
              "        vertical-align: middle;\n",
              "    }\n",
              "\n",
              "    .dataframe tbody tr th {\n",
              "        vertical-align: top;\n",
              "    }\n",
              "\n",
              "    .dataframe thead th {\n",
              "        text-align: right;\n",
              "    }\n",
              "</style>\n",
              "<table border=\"1\" class=\"dataframe\">\n",
              "  <thead>\n",
              "    <tr style=\"text-align: right;\">\n",
              "      <th></th>\n",
              "      <th>A</th>\n",
              "      <th>B</th>\n",
              "      <th>C</th>\n",
              "      <th>D</th>\n",
              "    </tr>\n",
              "  </thead>\n",
              "  <tbody>\n",
              "    <tr>\n",
              "      <th>0</th>\n",
              "      <td>Day1</td>\n",
              "      <td>man</td>\n",
              "      <td>1.0</td>\n",
              "      <td>fff</td>\n",
              "    </tr>\n",
              "    <tr>\n",
              "      <th>1</th>\n",
              "      <td>Day2</td>\n",
              "      <td>to</td>\n",
              "      <td>2.0</td>\n",
              "      <td>eeee</td>\n",
              "    </tr>\n",
              "    <tr>\n",
              "      <th>2</th>\n",
              "      <td>Day3</td>\n",
              "      <td>oo</td>\n",
              "      <td>4.0</td>\n",
              "      <td>bib</td>\n",
              "    </tr>\n",
              "    <tr>\n",
              "      <th>3</th>\n",
              "      <td>Day4</td>\n",
              "      <td>3</td>\n",
              "      <td>9.0</td>\n",
              "      <td>lolo</td>\n",
              "    </tr>\n",
              "  </tbody>\n",
              "</table>\n",
              "</div>"
            ],
            "text/plain": [
              "      A    B    C     D\n",
              "0  Day1  man  1.0   fff\n",
              "1  Day2   to  2.0  eeee\n",
              "2  Day3   oo  4.0   bib\n",
              "3  Day4    3  9.0  lolo"
            ]
          },
          "metadata": {},
          "execution_count": 12
        }
      ]
    },
    {
      "cell_type": "code",
      "metadata": {
        "id": "2fe0LJ-0D05G"
      },
      "source": [
        ""
      ],
      "execution_count": null,
      "outputs": []
    }
  ]
}