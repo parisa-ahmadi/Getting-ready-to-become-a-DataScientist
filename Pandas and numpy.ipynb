{
  "nbformat": 4,
  "nbformat_minor": 0,
  "metadata": {
    "colab": {
      "name": "Untitled12.ipynb",
      "provenance": [],
      "collapsed_sections": [],
      "authorship_tag": "ABX9TyNXluWiFmjNxx6TDSSUUKdq",
      "include_colab_link": true
    },
    "kernelspec": {
      "name": "python3",
      "display_name": "Python 3"
    },
    "language_info": {
      "name": "python"
    }
  },
  "cells": [
    {
      "cell_type": "markdown",
      "metadata": {
        "id": "view-in-github",
        "colab_type": "text"
      },
      "source": [
        "<a href=\"https://colab.research.google.com/github/parisa-ahmadi/PythonBasics/blob/main/Pandas%20and%20numpy.ipynb\" target=\"_parent\"><img src=\"https://colab.research.google.com/assets/colab-badge.svg\" alt=\"Open In Colab\"/></a>"
      ]
    },
    {
      "cell_type": "code",
      "metadata": {
        "colab": {
          "base_uri": "https://localhost:8080/"
        },
        "id": "JQOB7mXJihAb",
        "outputId": "d4a5fdea-0eca-4704-ce5b-3b6ab4b5204a"
      },
      "source": [
        "import pandas as pd\n",
        "import numpy as np\n",
        "list1=[1,3,4,5,67,7]\n",
        "labels=[1,2,3,4,5,6]\n",
        "ser_1=pd.Series(data=list1,index=labels)\n",
        "print(ser_1)\n"
      ],
      "execution_count": null,
      "outputs": [
        {
          "output_type": "stream",
          "name": "stdout",
          "text": [
            "1     1\n",
            "2     3\n",
            "3     4\n",
            "4     5\n",
            "5    67\n",
            "6     7\n",
            "dtype: int64\n"
          ]
        }
      ]
    },
    {
      "cell_type": "code",
      "metadata": {
        "colab": {
          "base_uri": "https://localhost:8080/"
        },
        "id": "dZdk7auDj4I1",
        "outputId": "b3d16d55-0a00-4736-dc0a-dadb8b00b363"
      },
      "source": [
        "ser_1+ser_1"
      ],
      "execution_count": null,
      "outputs": [
        {
          "output_type": "execute_result",
          "data": {
            "text/plain": [
              "1      2\n",
              "2      6\n",
              "3      8\n",
              "4     10\n",
              "5    134\n",
              "6     14\n",
              "dtype: int64"
            ]
          },
          "metadata": {},
          "execution_count": 3
        }
      ]
    },
    {
      "cell_type": "code",
      "metadata": {
        "colab": {
          "base_uri": "https://localhost:8080/"
        },
        "id": "luFRzPnqkHcy",
        "outputId": "d776ee43-0b81-4ddc-9409-d0b6c9bd6fa8"
      },
      "source": [
        "ser_1*ser_1"
      ],
      "execution_count": null,
      "outputs": [
        {
          "output_type": "execute_result",
          "data": {
            "text/plain": [
              "1       1\n",
              "2       9\n",
              "3      16\n",
              "4      25\n",
              "5    4489\n",
              "6      49\n",
              "dtype: int64"
            ]
          },
          "metadata": {},
          "execution_count": 4
        }
      ]
    },
    {
      "cell_type": "code",
      "metadata": {
        "colab": {
          "base_uri": "https://localhost:8080/"
        },
        "id": "WTww8c-7kQQf",
        "outputId": "0e57bef2-ad31-4f8a-edd6-fb446400d79d"
      },
      "source": [
        "arr_1=np.array([1,2,3,4,5,6])\n",
        "ser_2=pd.Series(arr_1)\n",
        "print(ser_2)"
      ],
      "execution_count": null,
      "outputs": [
        {
          "output_type": "stream",
          "name": "stdout",
          "text": [
            "0    1\n",
            "1    2\n",
            "2    3\n",
            "3    4\n",
            "4    5\n",
            "5    6\n",
            "dtype: int64\n"
          ]
        }
      ]
    },
    {
      "cell_type": "code",
      "metadata": {
        "colab": {
          "base_uri": "https://localhost:8080/"
        },
        "id": "cmmerDOJmCPw",
        "outputId": "254ed1b7-44a2-481d-949a-e9be03b84623"
      },
      "source": [
        "ser_1* ser_2"
      ],
      "execution_count": null,
      "outputs": [
        {
          "output_type": "execute_result",
          "data": {
            "text/plain": [
              "0      NaN\n",
              "1      2.0\n",
              "2      9.0\n",
              "3     16.0\n",
              "4     25.0\n",
              "5    402.0\n",
              "6      NaN\n",
              "dtype: float64"
            ]
          },
          "metadata": {},
          "execution_count": 10
        }
      ]
    },
    {
      "cell_type": "code",
      "metadata": {
        "colab": {
          "base_uri": "https://localhost:8080/"
        },
        "id": "gnBdOFf_mF5L",
        "outputId": "0dbec684-dccb-4009-e8c0-196e15cdc290"
      },
      "source": [
        "ser_2/ser_2"
      ],
      "execution_count": null,
      "outputs": [
        {
          "output_type": "execute_result",
          "data": {
            "text/plain": [
              "0    1.0\n",
              "1    1.0\n",
              "2    1.0\n",
              "3    1.0\n",
              "4    1.0\n",
              "5    1.0\n",
              "dtype: float64"
            ]
          },
          "metadata": {},
          "execution_count": 11
        }
      ]
    },
    {
      "cell_type": "code",
      "metadata": {
        "colab": {
          "base_uri": "https://localhost:8080/"
        },
        "id": "SJvYcRLPnzAU",
        "outputId": "1d307d9a-254c-4fbc-8498-8eadcb4641d5"
      },
      "source": [
        "ser_2-ser_2"
      ],
      "execution_count": null,
      "outputs": [
        {
          "output_type": "execute_result",
          "data": {
            "text/plain": [
              "0    0\n",
              "1    0\n",
              "2    0\n",
              "3    0\n",
              "4    0\n",
              "5    0\n",
              "dtype: int64"
            ]
          },
          "metadata": {},
          "execution_count": 12
        }
      ]
    },
    {
      "cell_type": "code",
      "metadata": {
        "colab": {
          "base_uri": "https://localhost:8080/",
          "height": 111
        },
        "id": "Bfb6-dXjn2pE",
        "outputId": "c87d14d2-ceb5-4041-d680-c103cf03d1ce"
      },
      "source": [
        "arr_2=np.random.randint(10,50, size=(2,3))\n",
        "df_1=pd.DataFrame(arr_2,[\"A\",\"B\"],['C','D','E'])\n",
        "df_1"
      ],
      "execution_count": null,
      "outputs": [
        {
          "output_type": "execute_result",
          "data": {
            "text/html": [
              "<div>\n",
              "<style scoped>\n",
              "    .dataframe tbody tr th:only-of-type {\n",
              "        vertical-align: middle;\n",
              "    }\n",
              "\n",
              "    .dataframe tbody tr th {\n",
              "        vertical-align: top;\n",
              "    }\n",
              "\n",
              "    .dataframe thead th {\n",
              "        text-align: right;\n",
              "    }\n",
              "</style>\n",
              "<table border=\"1\" class=\"dataframe\">\n",
              "  <thead>\n",
              "    <tr style=\"text-align: right;\">\n",
              "      <th></th>\n",
              "      <th>C</th>\n",
              "      <th>D</th>\n",
              "      <th>E</th>\n",
              "    </tr>\n",
              "  </thead>\n",
              "  <tbody>\n",
              "    <tr>\n",
              "      <th>A</th>\n",
              "      <td>16</td>\n",
              "      <td>15</td>\n",
              "      <td>35</td>\n",
              "    </tr>\n",
              "    <tr>\n",
              "      <th>B</th>\n",
              "      <td>11</td>\n",
              "      <td>41</td>\n",
              "      <td>39</td>\n",
              "    </tr>\n",
              "  </tbody>\n",
              "</table>\n",
              "</div>"
            ],
            "text/plain": [
              "    C   D   E\n",
              "A  16  15  35\n",
              "B  11  41  39"
            ]
          },
          "metadata": {},
          "execution_count": 13
        }
      ]
    }
  ]
}