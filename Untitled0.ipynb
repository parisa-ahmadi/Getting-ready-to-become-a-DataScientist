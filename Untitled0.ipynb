{
  "nbformat": 4,
  "nbformat_minor": 0,
  "metadata": {
    "colab": {
      "name": "Untitled0.ipynb",
      "provenance": [],
      "authorship_tag": "ABX9TyNmwd2uaazoMvEWSwHGTVpI",
      "include_colab_link": true
    },
    "kernelspec": {
      "name": "python3",
      "display_name": "Python 3"
    },
    "language_info": {
      "name": "python"
    }
  },
  "cells": [
    {
      "cell_type": "markdown",
      "metadata": {
        "id": "view-in-github",
        "colab_type": "text"
      },
      "source": [
        "<a href=\"https://colab.research.google.com/github/parisa-ahmadi/Pandaslibrary/blob/main/Untitled0.ipynb\" target=\"_parent\"><img src=\"https://colab.research.google.com/assets/colab-badge.svg\" alt=\"Open In Colab\"/></a>"
      ]
    },
    {
      "cell_type": "code",
      "metadata": {
        "id": "sFIzRTMtZiJI",
        "outputId": "01f06581-72ec-49ee-e4c6-d364760f7c83",
        "colab": {
          "base_uri": "https://localhost:8080/"
        }
      },
      "source": [
        "x=list(input(\"enter your number:\"))\n",
        "print(x)"
      ],
      "execution_count": 1,
      "outputs": [
        {
          "output_type": "stream",
          "name": "stdout",
          "text": [
            "enter your number:2435645\n",
            "['2', '4', '3', '5', '6', '4', '5']\n"
          ]
        }
      ]
    },
    {
      "cell_type": "code",
      "metadata": {
        "id": "1H2ihhbk-HHF",
        "outputId": "d74d2a9c-d8b3-4245-e451-9f73f84aee4f",
        "colab": {
          "base_uri": "https://localhost:8080/"
        }
      },
      "source": [
        "y=tuple(input(\"enter your number:\"))\n",
        "print(y)"
      ],
      "execution_count": 2,
      "outputs": [
        {
          "output_type": "stream",
          "name": "stdout",
          "text": [
            "enter your number:6789\n",
            "('6', '7', '8', '9')\n"
          ]
        }
      ]
    },
    {
      "cell_type": "code",
      "metadata": {
        "id": "q0f6WSm0-4gn",
        "outputId": "8780e18e-f857-4191-9545-ec5615be21bb",
        "colab": {
          "base_uri": "https://localhost:8080/"
        }
      },
      "source": [
        "c=set(input(\"enter your number:\"))\n",
        "print(c)"
      ],
      "execution_count": 3,
      "outputs": [
        {
          "output_type": "stream",
          "name": "stdout",
          "text": [
            "enter your number:456788\n",
            "{'8', '5', '4', '6', '7'}\n"
          ]
        }
      ]
    },
    {
      "cell_type": "code",
      "metadata": {
        "id": "pidYwC6-_bP2",
        "outputId": "b898ab0c-d61b-4980-9528-ba46eb24bb04",
        "colab": {
          "base_uri": "https://localhost:8080/"
        }
      },
      "source": [
        "print(dict(zip(x,y)))"
      ],
      "execution_count": 4,
      "outputs": [
        {
          "output_type": "stream",
          "name": "stdout",
          "text": [
            "{'2': '6', '4': '7', '3': '8', '5': '9'}\n"
          ]
        }
      ]
    },
    {
      "cell_type": "code",
      "metadata": {
        "id": "U9pbxo0SAuZV",
        "outputId": "0db48d44-9ada-43fe-d670-5a3410b83574",
        "colab": {
          "base_uri": "https://localhost:8080/"
        }
      },
      "source": [
        "print(list(zip(x,y,c)))"
      ],
      "execution_count": 5,
      "outputs": [
        {
          "output_type": "stream",
          "name": "stdout",
          "text": [
            "[('2', '6', '8'), ('4', '7', '5'), ('3', '8', '4'), ('5', '9', '6')]\n"
          ]
        }
      ]
    },
    {
      "cell_type": "code",
      "metadata": {
        "id": "gmz_NLYBB1vw",
        "outputId": "ffd6f663-1235-4570-f31b-adb37590d8b6",
        "colab": {
          "base_uri": "https://localhost:8080/"
        }
      },
      "source": [
        "def numberic_input():\n",
        "  result=[]\n",
        "  while True:\n",
        "    input_number=input(\"enter your number:\")\n",
        "    if input_number ==\"exit\":\n",
        "      break\n",
        "    if input_number.isdigit():\n",
        "      result.append(int(input_number))\n",
        "    else:\n",
        "      print(\"invalid value please try again:\")\n",
        "  return result\n",
        "numberic_input()\n"
      ],
      "execution_count": 10,
      "outputs": [
        {
          "name": "stdout",
          "output_type": "stream",
          "text": [
            "enter your number:23\n",
            "enter your number:56\n",
            "enter your number:hirad\n",
            "invalid value please try again:\n",
            "enter your number:10\n",
            "enter your number:2\n",
            "enter your number:ft\n",
            "invalid value please try again:\n",
            "enter your number:6\n",
            "enter your number:ppp\n",
            "invalid value please try again:\n",
            "enter your number:exit\n"
          ]
        },
        {
          "output_type": "execute_result",
          "data": {
            "text/plain": [
              "[23, 56, 10, 2, 6]"
            ]
          },
          "metadata": {},
          "execution_count": 10
        }
      ]
    },
    {
      "cell_type": "code",
      "metadata": {
        "id": "TcTWAN-bB1o9",
        "outputId": "0ad72603-88e9-4275-b0f4-ea5278b97c82",
        "colab": {
          "base_uri": "https://localhost:8080/"
        }
      },
      "source": [
        "x=['mari','sina']\n",
        "y=['momeni','ahmadi']\n",
        "print(list(zip(x,y)))"
      ],
      "execution_count": 12,
      "outputs": [
        {
          "output_type": "stream",
          "name": "stdout",
          "text": [
            "[('mari', 'momeni'), ('sina', 'ahmadi')]\n"
          ]
        }
      ]
    }
  ]
}