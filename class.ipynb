{
  "nbformat": 4,
  "nbformat_minor": 0,
  "metadata": {
    "colab": {
      "name": "Untitled3.ipynb",
      "provenance": [],
      "authorship_tag": "ABX9TyOeax3l1eYyKTJipZaNBZ4Q",
      "include_colab_link": true
    },
    "kernelspec": {
      "name": "python3",
      "display_name": "Python 3"
    },
    "language_info": {
      "name": "python"
    }
  },
  "cells": [
    {
      "cell_type": "markdown",
      "metadata": {
        "id": "view-in-github",
        "colab_type": "text"
      },
      "source": [
        "<a href=\"https://colab.research.google.com/github/parisa-ahmadi/Pandaslibrary/blob/main/class.ipynb\" target=\"_parent\"><img src=\"https://colab.research.google.com/assets/colab-badge.svg\" alt=\"Open In Colab\"/></a>"
      ]
    },
    {
      "cell_type": "code",
      "metadata": {
        "colab": {
          "base_uri": "https://localhost:8080/"
        },
        "id": "plxzqat8F513",
        "outputId": "377c9b14-0743-4544-8e3f-f8d17a77b681"
      },
      "source": [
        "class parisan():\n",
        "    def __init__(self,name,lname,age):\n",
        "     self.name=name\n",
        "     self.lname=lname\n",
        "     self.age=age \n",
        "    def get_name(self):\n",
        "        print('your name is:', self.name)\n",
        "    def get_lname(self):\n",
        "        print('your lastname:', self.lname)\n",
        "    def get_age(self):\n",
        "        print('your age:', self.age)\n",
        "pari=parisan(\"parisan\",\"ahmadi\",\"31\")\n",
        "pari.get_name()\n",
        "pari.get_lname()\n",
        "pari.get_age()\n",
        "\n",
        "class hirad(parisan):\n",
        "  pass\n",
        "h=hirad('hirad','tajvar','31')\n",
        "h.get_name()\n",
        "h.get_lname()\n",
        "h.get_age()\n"
      ],
      "execution_count": 3,
      "outputs": [
        {
          "output_type": "stream",
          "name": "stdout",
          "text": [
            "your name is: parisan\n",
            "your lastname: ahmadi\n",
            "your age: 31\n",
            "your name is: hirad\n",
            "your lastname: tajvar\n",
            "your age: 31\n"
          ]
        }
      ]
    }
  ]
}