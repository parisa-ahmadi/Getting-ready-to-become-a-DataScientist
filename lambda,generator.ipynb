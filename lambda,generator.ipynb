{
  "nbformat": 4,
  "nbformat_minor": 0,
  "metadata": {
    "colab": {
      "name": "Untitled9.ipynb",
      "provenance": [],
      "collapsed_sections": [],
      "authorship_tag": "ABX9TyM1rpQY7E4GVIRzUI9gdFVG",
      "include_colab_link": true
    },
    "kernelspec": {
      "name": "python3",
      "display_name": "Python 3"
    },
    "language_info": {
      "name": "python"
    }
  },
  "cells": [
    {
      "cell_type": "markdown",
      "metadata": {
        "id": "view-in-github",
        "colab_type": "text"
      },
      "source": [
        "<a href=\"https://colab.research.google.com/github/parisa-ahmadi/PythonBasics/blob/main/lambda%2Cgenerator.ipynb\" target=\"_parent\"><img src=\"https://colab.research.google.com/assets/colab-badge.svg\" alt=\"Open In Colab\"/></a>"
      ]
    },
    {
      "cell_type": "code",
      "metadata": {
        "colab": {
          "base_uri": "https://localhost:8080/"
        },
        "id": "-sjUUOnGMkLy",
        "outputId": "83e71cce-184c-4a9f-aa0c-20d59346b635"
      },
      "source": [
        "lista=[(1,2),(8,4),(5,9),(5,11)]\n",
        "lista.sort(key=lambda x:x[0])\n",
        "print(lista)"
      ],
      "execution_count": 1,
      "outputs": [
        {
          "output_type": "stream",
          "name": "stdout",
          "text": [
            "[(1, 2), (5, 9), (5, 11), (8, 4)]\n"
          ]
        }
      ]
    },
    {
      "cell_type": "code",
      "metadata": {
        "colab": {
          "base_uri": "https://localhost:8080/"
        },
        "id": "Ovo6gF-uNFYG",
        "outputId": "502aea0d-3c0d-4bee-c9c8-216807339684"
      },
      "source": [
        "lista=[(1,2),(8,4),(5,9),(5,11)]\n",
        "lista.sort(key=lambda x:x[1])\n",
        "print(lista)"
      ],
      "execution_count": 2,
      "outputs": [
        {
          "output_type": "stream",
          "name": "stdout",
          "text": [
            "[(1, 2), (8, 4), (5, 9), (5, 11)]\n"
          ]
        }
      ]
    },
    {
      "cell_type": "code",
      "metadata": {
        "colab": {
          "base_uri": "https://localhost:8080/"
        },
        "id": "5V05ywa3NHad",
        "outputId": "becc4dca-04bc-44aa-8385-32dc4cab80a3"
      },
      "source": [
        "listb=[2,4,6,11,33,54,5]\n",
        "map(lambda x:x**3,listb)\n"
      ],
      "execution_count": 3,
      "outputs": [
        {
          "output_type": "execute_result",
          "data": {
            "text/plain": [
              "<map at 0x7f80db58fc10>"
            ]
          },
          "metadata": {},
          "execution_count": 3
        }
      ]
    },
    {
      "cell_type": "code",
      "metadata": {
        "colab": {
          "base_uri": "https://localhost:8080/"
        },
        "id": "bCA3QtVJOMLy",
        "outputId": "1681a7a8-029d-41ed-bf54-1ebacf2e6feb"
      },
      "source": [
        "print(list(map(lambda x:x**3,listb)))"
      ],
      "execution_count": 4,
      "outputs": [
        {
          "output_type": "stream",
          "name": "stdout",
          "text": [
            "[8, 64, 216, 1331, 35937, 157464, 125]\n"
          ]
        }
      ]
    },
    {
      "cell_type": "code",
      "metadata": {
        "colab": {
          "base_uri": "https://localhost:8080/"
        },
        "id": "m2pZSDfPOfbV",
        "outputId": "e68c17ee-f3f4-4b8f-ea07-c3a1fca3a3b8"
      },
      "source": [
        "listc=[6,5,3,22,33,5,6,8,9,70]\n",
        "print(list(map(lambda x:\"big\" if x>10 else \"small\" , listc)))"
      ],
      "execution_count": 6,
      "outputs": [
        {
          "output_type": "stream",
          "name": "stdout",
          "text": [
            "['small', 'small', 'small', 'big', 'big', 'small', 'small', 'small', 'small', 'big']\n"
          ]
        }
      ]
    },
    {
      "cell_type": "code",
      "metadata": {
        "colab": {
          "base_uri": "https://localhost:8080/"
        },
        "id": "CjDpVXTsQQB1",
        "outputId": "388f35a9-20fe-4883-dbe3-1b9cfc74746f"
      },
      "source": [
        "listc=[6,5,3,22,33,5,6,8,9,70]\n",
        "list(map(lambda x:\"big\" if x>10 else \"small\" , listc))"
      ],
      "execution_count": 8,
      "outputs": [
        {
          "output_type": "execute_result",
          "data": {
            "text/plain": [
              "['small',\n",
              " 'small',\n",
              " 'small',\n",
              " 'big',\n",
              " 'big',\n",
              " 'small',\n",
              " 'small',\n",
              " 'small',\n",
              " 'small',\n",
              " 'big']"
            ]
          },
          "metadata": {},
          "execution_count": 8
        }
      ]
    },
    {
      "cell_type": "code",
      "metadata": {
        "id": "wyHvZ1riQSLy"
      },
      "source": [
        "import pandas as pd\n"
      ],
      "execution_count": 9,
      "outputs": []
    },
    {
      "cell_type": "code",
      "metadata": {
        "colab": {
          "base_uri": "https://localhost:8080/"
        },
        "id": "5Vde3dlsQcC2",
        "outputId": "c4547e74-df0d-4264-f2d0-f46836e1c92f"
      },
      "source": [
        "c=pd.DataFrame(listc)\n",
        "print(c)"
      ],
      "execution_count": 14,
      "outputs": [
        {
          "output_type": "stream",
          "name": "stdout",
          "text": [
            "    0\n",
            "0   6\n",
            "1   5\n",
            "2   3\n",
            "3  22\n",
            "4  33\n",
            "5   5\n",
            "6   6\n",
            "7   8\n",
            "8   9\n",
            "9  70\n"
          ]
        }
      ]
    },
    {
      "cell_type": "code",
      "metadata": {
        "colab": {
          "base_uri": "https://localhost:8080/",
          "height": 359
        },
        "id": "UBtVHyjyRTWN",
        "outputId": "9547aba8-752d-4f35-f5d9-ea68278589d2"
      },
      "source": [
        "c=pd.DataFrame(listc)\n",
        "c"
      ],
      "execution_count": 15,
      "outputs": [
        {
          "output_type": "execute_result",
          "data": {
            "text/html": [
              "<div>\n",
              "<style scoped>\n",
              "    .dataframe tbody tr th:only-of-type {\n",
              "        vertical-align: middle;\n",
              "    }\n",
              "\n",
              "    .dataframe tbody tr th {\n",
              "        vertical-align: top;\n",
              "    }\n",
              "\n",
              "    .dataframe thead th {\n",
              "        text-align: right;\n",
              "    }\n",
              "</style>\n",
              "<table border=\"1\" class=\"dataframe\">\n",
              "  <thead>\n",
              "    <tr style=\"text-align: right;\">\n",
              "      <th></th>\n",
              "      <th>0</th>\n",
              "    </tr>\n",
              "  </thead>\n",
              "  <tbody>\n",
              "    <tr>\n",
              "      <th>0</th>\n",
              "      <td>6</td>\n",
              "    </tr>\n",
              "    <tr>\n",
              "      <th>1</th>\n",
              "      <td>5</td>\n",
              "    </tr>\n",
              "    <tr>\n",
              "      <th>2</th>\n",
              "      <td>3</td>\n",
              "    </tr>\n",
              "    <tr>\n",
              "      <th>3</th>\n",
              "      <td>22</td>\n",
              "    </tr>\n",
              "    <tr>\n",
              "      <th>4</th>\n",
              "      <td>33</td>\n",
              "    </tr>\n",
              "    <tr>\n",
              "      <th>5</th>\n",
              "      <td>5</td>\n",
              "    </tr>\n",
              "    <tr>\n",
              "      <th>6</th>\n",
              "      <td>6</td>\n",
              "    </tr>\n",
              "    <tr>\n",
              "      <th>7</th>\n",
              "      <td>8</td>\n",
              "    </tr>\n",
              "    <tr>\n",
              "      <th>8</th>\n",
              "      <td>9</td>\n",
              "    </tr>\n",
              "    <tr>\n",
              "      <th>9</th>\n",
              "      <td>70</td>\n",
              "    </tr>\n",
              "  </tbody>\n",
              "</table>\n",
              "</div>"
            ],
            "text/plain": [
              "    0\n",
              "0   6\n",
              "1   5\n",
              "2   3\n",
              "3  22\n",
              "4  33\n",
              "5   5\n",
              "6   6\n",
              "7   8\n",
              "8   9\n",
              "9  70"
            ]
          },
          "metadata": {},
          "execution_count": 15
        }
      ]
    },
    {
      "cell_type": "code",
      "metadata": {
        "colab": {
          "base_uri": "https://localhost:8080/"
        },
        "id": "laDyHhGxRWB0",
        "outputId": "ad776b50-f41a-46ad-95ae-70b9c7b57625"
      },
      "source": [
        "list(filter(lambda x:x%2==0,listc))\n"
      ],
      "execution_count": 17,
      "outputs": [
        {
          "output_type": "execute_result",
          "data": {
            "text/plain": [
              "[6, 22, 6, 8, 70]"
            ]
          },
          "metadata": {},
          "execution_count": 17
        }
      ]
    },
    {
      "cell_type": "code",
      "metadata": {
        "colab": {
          "base_uri": "https://localhost:8080/"
        },
        "id": "L0s-mJV2SlEN",
        "outputId": "5bf8ddd3-bddf-4d39-a010-1eb79d86ad65"
      },
      "source": [
        "list(filter(lambda x:x%2==1 ,listc))"
      ],
      "execution_count": 18,
      "outputs": [
        {
          "output_type": "execute_result",
          "data": {
            "text/plain": [
              "[5, 3, 33, 5, 9]"
            ]
          },
          "metadata": {},
          "execution_count": 18
        }
      ]
    },
    {
      "cell_type": "code",
      "metadata": {
        "colab": {
          "base_uri": "https://localhost:8080/"
        },
        "id": "1m10-YjLS6Ku",
        "outputId": "508aa8d6-5a1f-43f9-b6e7-5a974a1f6857"
      },
      "source": [
        " #generator data ra darjaye khodesh taqirat midahad masalan dar yek database(ye noe tabe)\n",
        " #toye ye anbar moratab kon hamoon moratab shode ra biar\n",
        " def first(n):\n",
        "   num=0\n",
        "   while (num<n):\n",
        "     yield num\n",
        "     #mese return kar mikonad\n",
        "     num+=1\n",
        "for i in range(20):\n",
        "  print(i)\n"
      ],
      "execution_count": 19,
      "outputs": [
        {
          "output_type": "stream",
          "name": "stdout",
          "text": [
            "0\n",
            "1\n",
            "2\n",
            "3\n",
            "4\n",
            "5\n",
            "6\n",
            "7\n",
            "8\n",
            "9\n",
            "10\n",
            "11\n",
            "12\n",
            "13\n",
            "14\n",
            "15\n",
            "16\n",
            "17\n",
            "18\n",
            "19\n"
          ]
        }
      ]
    },
    {
      "cell_type": "code",
      "metadata": {
        "colab": {
          "base_uri": "https://localhost:8080/"
        },
        "id": "mx5k5YkWU2_u",
        "outputId": "a3b85fb3-cf53-4c2e-ac3c-4c6ae0702cbf"
      },
      "source": [
        "def numbers (num):\n",
        "  for i in num:\n",
        "    yield (i*i)\n",
        "my_nums=numbers([1,3,4,5,2,7])\n",
        "print(next(my_nums))\n",
        "print(next(my_nums))\n",
        "print(next(my_nums))\n",
        "print(next(my_nums))\n",
        "print(next(my_nums))\n",
        "print(next(my_nums))\n"
      ],
      "execution_count": 25,
      "outputs": [
        {
          "output_type": "stream",
          "name": "stdout",
          "text": [
            "1\n",
            "9\n",
            "16\n",
            "25\n",
            "4\n",
            "49\n"
          ]
        }
      ]
    },
    {
      "cell_type": "code",
      "metadata": {
        "id": "PvcbsiE6Wdew"
      },
      "source": [
        ""
      ],
      "execution_count": null,
      "outputs": []
    }
  ]
}