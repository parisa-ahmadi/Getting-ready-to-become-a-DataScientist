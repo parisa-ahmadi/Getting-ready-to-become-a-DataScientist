{
  "nbformat": 4,
  "nbformat_minor": 0,
  "metadata": {
    "colab": {
      "name": "Untitled5.ipynb",
      "provenance": [],
      "authorship_tag": "ABX9TyMkRu8g24CXG5KPK83QZi9o",
      "include_colab_link": true
    },
    "kernelspec": {
      "name": "python3",
      "display_name": "Python 3"
    },
    "language_info": {
      "name": "python"
    }
  },
  "cells": [
    {
      "cell_type": "markdown",
      "metadata": {
        "id": "view-in-github",
        "colab_type": "text"
      },
      "source": [
        "<a href=\"https://colab.research.google.com/github/parisa-ahmadi/Pandaslibrary/blob/main/class-inheritance.ipynb\" target=\"_parent\"><img src=\"https://colab.research.google.com/assets/colab-badge.svg\" alt=\"Open In Colab\"/></a>"
      ]
    },
    {
      "cell_type": "code",
      "metadata": {
        "colab": {
          "base_uri": "https://localhost:8080/"
        },
        "id": "_OTHWz3EjNWo",
        "outputId": "c6d7f849-4f50-40af-9075-bf42815c7891"
      },
      "source": [
        "class parisan():\n",
        "    def __init__(self,name,lname,age):\n",
        "     self.name=name\n",
        "     self.lname=lname\n",
        "     self.age=age \n",
        "    def get_name(self):\n",
        "        print('your name is:', self.name)\n",
        "    def get_lname(self):\n",
        "        print('your lastname:', self.lname)\n",
        "    def get_age(self):\n",
        "        print('your age:', self.age)\n",
        "pari=parisan(\"parisan\",\"ahmadi\",\"31\")\n",
        "pari.get_name()\n",
        "pari.get_lname()\n",
        "pari.get_age()\n",
        "\n",
        "print(\"****************************\")\n",
        "\n",
        "class hirad(parisan):\n",
        "    pass\n",
        "h=hirad(\"hirad\",\"tajvar\",\"31\")\n",
        "h.get_name()\n",
        "h.get_lname()\n",
        "h.get_age()\n",
        "\n",
        "print(\"****************************\")\n",
        "\n",
        "class farhad(hirad):\n",
        "    def __init__(self,name,lname,age,address):\n",
        "        hirad.__init__(self,name,lname,age)\n",
        "        self.address=address\n",
        "    def get_address(self):\n",
        "        print(\"your address is:\",self.address)\n",
        "f=farhad('farhad','ahmadi','30','abadan')\n",
        "f.get_name()\n",
        "f.get_lname()\n",
        "f.get_age()\n",
        "f.get_address()"
      ],
      "execution_count": 2,
      "outputs": [
        {
          "output_type": "stream",
          "name": "stdout",
          "text": [
            "your name is: parisan\n",
            "your lastname: ahmadi\n",
            "your age: 31\n",
            "****************************\n",
            "your name is: hirad\n",
            "your lastname: tajvar\n",
            "your age: 31\n",
            "****************************\n",
            "your name is: farhad\n",
            "your lastname: ahmadi\n",
            "your age: 30\n",
            "your address is: abadan\n"
          ]
        }
      ]
    }
  ]
}