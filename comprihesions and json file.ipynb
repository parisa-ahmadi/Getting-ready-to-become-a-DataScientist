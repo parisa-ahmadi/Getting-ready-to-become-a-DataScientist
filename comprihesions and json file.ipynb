{
  "nbformat": 4,
  "nbformat_minor": 0,
  "metadata": {
    "colab": {
      "name": "Untitled8.ipynb",
      "provenance": [],
      "authorship_tag": "ABX9TyMidlyDe4uqJtb2A3wDl1KF",
      "include_colab_link": true
    },
    "kernelspec": {
      "name": "python3",
      "display_name": "Python 3"
    },
    "language_info": {
      "name": "python"
    }
  },
  "cells": [
    {
      "cell_type": "markdown",
      "metadata": {
        "id": "view-in-github",
        "colab_type": "text"
      },
      "source": [
        "<a href=\"https://colab.research.google.com/github/parisa-ahmadi/PythonBasics/blob/main/comprihesions%20and%20json%20file.ipynb\" target=\"_parent\"><img src=\"https://colab.research.google.com/assets/colab-badge.svg\" alt=\"Open In Colab\"/></a>"
      ]
    },
    {
      "cell_type": "code",
      "metadata": {
        "colab": {
          "base_uri": "https://localhost:8080/"
        },
        "id": "cYn8tFX_Pspg",
        "outputId": "39a46481-79da-4910-d88e-ad4506848f6e"
      },
      "source": [
        "my_list=[x+2 for x in range(0,10)]\n",
        "print(my_list)"
      ],
      "execution_count": 2,
      "outputs": [
        {
          "output_type": "stream",
          "name": "stdout",
          "text": [
            "[2, 3, 4, 5, 6, 7, 8, 9, 10, 11]\n"
          ]
        }
      ]
    },
    {
      "cell_type": "code",
      "metadata": {
        "colab": {
          "base_uri": "https://localhost:8080/"
        },
        "id": "pjHeLwgAR38Y",
        "outputId": "b37436db-e641-4ae9-973b-7268ff18bbac"
      },
      "source": [
        "my_list=[x+2 for x in range(0,10) if x%2==0]\n",
        "print(my_list)"
      ],
      "execution_count": 3,
      "outputs": [
        {
          "output_type": "stream",
          "name": "stdout",
          "text": [
            "[2, 4, 6, 8, 10]\n"
          ]
        }
      ]
    },
    {
      "cell_type": "code",
      "metadata": {
        "colab": {
          "base_uri": "https://localhost:8080/"
        },
        "id": "WAVkWQPsSFHI",
        "outputId": "981c2522-32dc-4253-a7d0-c6a0fc5bbbf4"
      },
      "source": [
        "my_list=[x+2 for x in range(0,10) if x%2==1]\n",
        "print(my_list)"
      ],
      "execution_count": 4,
      "outputs": [
        {
          "output_type": "stream",
          "name": "stdout",
          "text": [
            "[3, 5, 7, 9, 11]\n"
          ]
        }
      ]
    },
    {
      "cell_type": "code",
      "metadata": {
        "colab": {
          "base_uri": "https://localhost:8080/"
        },
        "id": "dSKxANnVSImv",
        "outputId": "bf6cf4b9-a5d9-496e-bf02-02a3567d3813"
      },
      "source": [
        "my_list1=[(letter,numbers) for letter in \"abcdf\" for numbers in range(6)]\n",
        "print(my_list1)"
      ],
      "execution_count": 7,
      "outputs": [
        {
          "output_type": "stream",
          "name": "stdout",
          "text": [
            "[('a', 0), ('a', 1), ('a', 2), ('a', 3), ('a', 4), ('a', 5), ('b', 0), ('b', 1), ('b', 2), ('b', 3), ('b', 4), ('b', 5), ('c', 0), ('c', 1), ('c', 2), ('c', 3), ('c', 4), ('c', 5), ('d', 0), ('d', 1), ('d', 2), ('d', 3), ('d', 4), ('d', 5), ('f', 0), ('f', 1), ('f', 2), ('f', 3), ('f', 4), ('f', 5)]\n"
          ]
        }
      ]
    },
    {
      "cell_type": "code",
      "metadata": {
        "id": "nKfUzm8IYiFN"
      },
      "source": [
        "import json\n"
      ],
      "execution_count": 2,
      "outputs": []
    },
    {
      "cell_type": "code",
      "metadata": {
        "id": "OTPiehUfcyz4"
      },
      "source": [
        "dict={\"car\":\"bmw\", \"color\":\"black\", \"year\":\"1990\"}\n",
        "with open(\"cartable.json\",\"w\") as f:\n",
        "  json.dump(dict,f)"
      ],
      "execution_count": 3,
      "outputs": []
    },
    {
      "cell_type": "code",
      "metadata": {
        "colab": {
          "base_uri": "https://localhost:8080/"
        },
        "id": "GuHfJjzQG1Lw",
        "outputId": "6ffba0b1-e3ab-4c0f-d699-1b052ec77dc0"
      },
      "source": [
        "with open(\"cartable.json\",\"r\") as f:\n",
        "  car_json=json.load(f)\n",
        "  print(car_json)"
      ],
      "execution_count": 5,
      "outputs": [
        {
          "output_type": "stream",
          "name": "stdout",
          "text": [
            "{'car': 'bmw', 'color': 'black', 'year': '1990'}\n"
          ]
        }
      ]
    },
    {
      "cell_type": "code",
      "metadata": {
        "id": "sU6iyPxcI-S6"
      },
      "source": [
        ""
      ],
      "execution_count": null,
      "outputs": []
    }
  ]
}